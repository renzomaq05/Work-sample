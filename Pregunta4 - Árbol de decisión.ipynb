{
 "cells": [
  {
   "cell_type": "code",
   "execution_count": 1,
   "metadata": {},
   "outputs": [],
   "source": [
    "import pandas as pd\n",
    "from sklearn.tree import DecisionTreeClassifier\n",
    "from sklearn.model_selection import train_test_split\n",
    "import numpy as np\n",
    "from sklearn.metrics import accuracy_score,precision_score, recall_score\n",
    "from sklearn.metrics import confusion_matrix \n",
    "from sklearn.metrics import classification_report\n",
    "import seaborn as sns\n",
    "\n",
    "datos = pd.read_csv(r\"Internal Fraud Dataset.csv\")\n",
    "etiqueta = datos['bin_country_code'].astype('category').cat.categories.tolist()\n",
    "mapa_remplazo = {'bin_country_code' : {k: v for k,v in zip(etiqueta,list(range(1,len(etiqueta)+1)))}}\n",
    "datos.replace(mapa_remplazo, inplace=True)\n",
    "arr=np.isnan(datos['bin_country_code'])\n",
    "datos.loc[arr,'bin_country_code']='33'"
   ]
  },
  {
   "cell_type": "markdown",
   "metadata": {},
   "source": [
    "# Divido el conjunto"
   ]
  },
  {
   "cell_type": "code",
   "execution_count": 2,
   "metadata": {},
   "outputs": [],
   "source": [
    "y = datos['fraude'].values\n",
    "X = datos.drop('fraude', axis = 1).values\n",
    "X_train, X_test, y_train, y_test = train_test_split(X, y, test_size=0.20, random_state=0)"
   ]
  },
  {
   "cell_type": "markdown",
   "metadata": {},
   "source": [
    "# Entreno el modelo"
   ]
  },
  {
   "cell_type": "code",
   "execution_count": 3,
   "metadata": {},
   "outputs": [
    {
     "name": "stdout",
     "output_type": "stream",
     "text": [
      "- Arbol de decicion precision:  0.7370201691607027\n",
      "- Matriz de Confusión:\n",
      "[[5132 1072]\n",
      " [ 949  532]]\n",
      "- Informe de Clasificación :\n",
      "              precision    recall  f1-score   support\n",
      "\n",
      "           0       0.84      0.83      0.84      6204\n",
      "           1       0.33      0.36      0.34      1481\n",
      "\n",
      "    accuracy                           0.74      7685\n",
      "   macro avg       0.59      0.59      0.59      7685\n",
      "weighted avg       0.75      0.74      0.74      7685\n",
      "\n"
     ]
    }
   ],
   "source": [
    "dt = DecisionTreeClassifier(random_state = 0)\n",
    "\n",
    "dt.fit(X_train,y_train)\n",
    "\n",
    "#-- Testeamos el modelo\n",
    "dt_pred = dt.predict(X_test)\n",
    "\n",
    "#-- Desplegamos los resultados del modelo\n",
    "print('- Arbol de decicion precision: ',accuracy_score(y_test, dt_pred))\n",
    "print('- Matriz de Confusión:')\n",
    "print(confusion_matrix(y_test, dt_pred))\n",
    "print('- Informe de Clasificación :')\n",
    "print(classification_report(y_test, dt_pred))"
   ]
  }
 ],
 "metadata": {
  "kernelspec": {
   "display_name": "Python 3",
   "language": "python",
   "name": "python3"
  },
  "language_info": {
   "codemirror_mode": {
    "name": "ipython",
    "version": 3
   },
   "file_extension": ".py",
   "mimetype": "text/x-python",
   "name": "python",
   "nbconvert_exporter": "python",
   "pygments_lexer": "ipython3",
   "version": "3.7.7"
  }
 },
 "nbformat": 4,
 "nbformat_minor": 4
}
