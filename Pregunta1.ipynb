{
 "cells": [
  {
   "cell_type": "code",
   "execution_count": 1,
   "metadata": {
    "scrolled": true
   },
   "outputs": [],
   "source": [
    "import pandas as pd\n",
    "datos = pd.read_csv(r\"Internal Fraud Dataset.csv\")"
   ]
  },
  {
   "cell_type": "markdown",
   "metadata": {},
   "source": [
    "#### (Cantidad de filas, Cantidad de columnas):"
   ]
  },
  {
   "cell_type": "code",
   "execution_count": 2,
   "metadata": {},
   "outputs": [
    {
     "data": {
      "text/plain": [
       "(38422, 23)"
      ]
     },
     "execution_count": 2,
     "metadata": {},
     "output_type": "execute_result"
    }
   ],
   "source": [
    "datos.shape"
   ]
  },
  {
   "cell_type": "markdown",
   "metadata": {},
   "source": [
    "#### Tipo de datos y tamaño del dataset: "
   ]
  },
  {
   "cell_type": "code",
   "execution_count": 3,
   "metadata": {},
   "outputs": [
    {
     "name": "stdout",
     "output_type": "stream",
     "text": [
      "<class 'pandas.core.frame.DataFrame'>\n",
      "RangeIndex: 38422 entries, 0 to 38421\n",
      "Data columns (total 23 columns):\n",
      " #   Column                                                    Non-Null Count  Dtype  \n",
      "---  ------                                                    --------------  -----  \n",
      " 0   accumulated_payments_by_card_for_reject                   38422 non-null  int64  \n",
      " 1   address_secure_delivery                                   38422 non-null  int64  \n",
      " 2   accumulated_amount_by_buyer_for_reject                    38422 non-null  float64\n",
      " 3   iv_offered_by_ss_done                                     38422 non-null  int64  \n",
      " 4   iv_with_selfie_offered_by_ss_done                         38422 non-null  int64  \n",
      " 5   accumulated_amount_by_card_for_reject                     38422 non-null  float64\n",
      " 6   accumulated_payments_by_buyer_for_reject                  38422 non-null  int64  \n",
      " 7   approved_history_by_min_amount15after_days60              38422 non-null  int64  \n",
      " 8   approved_history_by_min_amount15after_days90              38422 non-null  int64  \n",
      " 9   tracker_approved_history                                  38422 non-null  int64  \n",
      " 10  approved_history_by_min_amount15after_days30              38422 non-null  int64  \n",
      " 11  iv_done                                                   38422 non-null  int64  \n",
      " 12  approved_history_by_min_amount0after_days90               38422 non-null  int64  \n",
      " 13  address_by_min_amount30after_days90                       38422 non-null  int64  \n",
      " 14  tracker_old_address                                       38422 non-null  int64  \n",
      " 15  approved_history_by_min_amount30after_days30              38422 non-null  int64  \n",
      " 16  address_by_min_amount0after_days60                        38422 non-null  int64  \n",
      " 17  payment_remedies_name_matches                             38422 non-null  int64  \n",
      " 18  approved_history_by_min_amount30after_days90              38422 non-null  int64  \n",
      " 19  accumulated_payments_by_identification_number_for_reject  38422 non-null  int64  \n",
      " 20  bin_country_code                                          38383 non-null  object \n",
      " 21  total_amount                                              38422 non-null  float64\n",
      " 22  fraude                                                    38422 non-null  int64  \n",
      "dtypes: float64(3), int64(19), object(1)\n",
      "memory usage: 6.7+ MB\n"
     ]
    }
   ],
   "source": [
    "datos.info()"
   ]
  },
  {
   "cell_type": "markdown",
   "metadata": {},
   "source": [
    "#### Cantidad de pagos fraude:  "
   ]
  },
  {
   "cell_type": "code",
   "execution_count": 4,
   "metadata": {},
   "outputs": [
    {
     "data": {
      "text/plain": [
       "fraude\n",
       "0    31126\n",
       "1     7296\n",
       "dtype: int64"
      ]
     },
     "execution_count": 4,
     "metadata": {},
     "output_type": "execute_result"
    }
   ],
   "source": [
    "datos.groupby(['fraude']).size()"
   ]
  },
  {
   "cell_type": "markdown",
   "metadata": {},
   "source": [
    "#### Dinero pagado:"
   ]
  },
  {
   "cell_type": "code",
   "execution_count": 5,
   "metadata": {},
   "outputs": [
    {
     "data": {
      "text/plain": [
       "7312434.467999999"
      ]
     },
     "execution_count": 5,
     "metadata": {},
     "output_type": "execute_result"
    }
   ],
   "source": [
    "datos['total_amount'].sum()"
   ]
  },
  {
   "cell_type": "markdown",
   "metadata": {},
   "source": [
    "#### Dinero en fraude:"
   ]
  },
  {
   "cell_type": "code",
   "execution_count": 6,
   "metadata": {},
   "outputs": [
    {
     "data": {
      "text/plain": [
       "fraude\n",
       "0    6107303.995\n",
       "1    1205130.473\n",
       "Name: total_amount, dtype: float64"
      ]
     },
     "execution_count": 6,
     "metadata": {},
     "output_type": "execute_result"
    }
   ],
   "source": [
    "datos.groupby('fraude')['total_amount'].sum()"
   ]
  }
 ],
 "metadata": {
  "kernelspec": {
   "display_name": "Python 3",
   "language": "python",
   "name": "python3"
  },
  "language_info": {
   "codemirror_mode": {
    "name": "ipython",
    "version": 3
   },
   "file_extension": ".py",
   "mimetype": "text/x-python",
   "name": "python",
   "nbconvert_exporter": "python",
   "pygments_lexer": "ipython3",
   "version": "3.7.7"
  }
 },
 "nbformat": 4,
 "nbformat_minor": 4
}
