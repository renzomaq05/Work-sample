{
 "cells": [
  {
   "cell_type": "code",
   "execution_count": 1,
   "metadata": {},
   "outputs": [],
   "source": [
    "import pandas as pd\n",
    "from sklearn.linear_model import LogisticRegression\n",
    "from sklearn.model_selection import train_test_split\n",
    "import numpy as np\n",
    "from sklearn.metrics import accuracy_score,precision_score, recall_score\n",
    "from sklearn.metrics import confusion_matrix \n",
    "from sklearn.metrics import classification_report\n",
    "import seaborn as sns\n",
    "\n",
    "datos = pd.read_csv(r\"Internal Fraud Dataset.csv\")\n",
    "datos = datos.drop('approved_history_by_min_amount15after_days30', axis=1)\n",
    "datos = datos.drop('approved_history_by_min_amount0after_days90', axis=1)\n",
    "datos = datos.drop('approved_history_by_min_amount15after_days90', axis=1)\n",
    "datos = datos.drop('approved_history_by_min_amount15after_days60', axis=1)\n",
    "datos = datos.drop('accumulated_amount_by_buyer_for_reject', axis=1)\n",
    "datos = datos.drop('payment_remedies_name_matches', axis=1)\n",
    "datos = datos.drop('iv_done', axis=1)\n",
    "datos = datos.drop('bin_country_code', axis=1)"
   ]
  },
  {
   "cell_type": "markdown",
   "metadata": {},
   "source": [
    "# Divido el conjunto"
   ]
  },
  {
   "cell_type": "code",
   "execution_count": 2,
   "metadata": {},
   "outputs": [],
   "source": [
    "y = datos['fraude'].values\n",
    "X = datos.drop('fraude', axis = 1).values\n",
    "X_train, X_test, y_train, y_test = train_test_split(X, y, test_size=0.35, random_state=0)"
   ]
  },
  {
   "cell_type": "markdown",
   "metadata": {},
   "source": [
    "# Entreno el modelo"
   ]
  },
  {
   "cell_type": "code",
   "execution_count": 3,
   "metadata": {},
   "outputs": [
    {
     "name": "stdout",
     "output_type": "stream",
     "text": [
      "- Regresión logística precision:  0.8120910172516359\n",
      "- Matriz de Confusión: \n",
      "[[10917     2]\n",
      " [ 2525     4]]\n",
      "- Informe de Clasificación: \n",
      "              precision    recall  f1-score   support\n",
      "\n",
      "           0       0.81      1.00      0.90     10919\n",
      "           1       0.67      0.00      0.00      2529\n",
      "\n",
      "    accuracy                           0.81     13448\n",
      "   macro avg       0.74      0.50      0.45     13448\n",
      "weighted avg       0.78      0.81      0.73     13448\n",
      "\n"
     ]
    },
    {
     "name": "stderr",
     "output_type": "stream",
     "text": [
      "C:\\Users\\Usuario\\anaconda3\\envs\\Work sample\\lib\\site-packages\\sklearn\\linear_model\\_logistic.py:940: ConvergenceWarning: lbfgs failed to converge (status=1):\n",
      "STOP: TOTAL NO. of ITERATIONS REACHED LIMIT.\n",
      "\n",
      "Increase the number of iterations (max_iter) or scale the data as shown in:\n",
      "    https://scikit-learn.org/stable/modules/preprocessing.html\n",
      "Please also refer to the documentation for alternative solver options:\n",
      "    https://scikit-learn.org/stable/modules/linear_model.html#logistic-regression\n",
      "  extra_warning_msg=_LOGISTIC_SOLVER_CONVERGENCE_MSG)\n"
     ]
    }
   ],
   "source": [
    "lr = LogisticRegression(random_state = 0)\n",
    "\n",
    "lr.fit(X_train,y_train)\n",
    "\n",
    "lr_pred = lr.predict(X_test)\n",
    "\n",
    "print('- Regresión logística precision: ',accuracy_score(y_test, lr_pred))\n",
    "print('- Matriz de Confusión: ')\n",
    "print(confusion_matrix(y_test, lr_pred))\n",
    "print('- Informe de Clasificación: ')\n",
    "print(classification_report(y_test, lr_pred))"
   ]
  }
 ],
 "metadata": {
  "kernelspec": {
   "display_name": "Python 3",
   "language": "python",
   "name": "python3"
  },
  "language_info": {
   "codemirror_mode": {
    "name": "ipython",
    "version": 3
   },
   "file_extension": ".py",
   "mimetype": "text/x-python",
   "name": "python",
   "nbconvert_exporter": "python",
   "pygments_lexer": "ipython3",
   "version": "3.7.7"
  }
 },
 "nbformat": 4,
 "nbformat_minor": 4
}
